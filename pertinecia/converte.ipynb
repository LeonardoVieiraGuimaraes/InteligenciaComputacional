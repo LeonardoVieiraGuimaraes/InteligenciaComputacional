{
 "cells": [
  {
   "cell_type": "markdown",
   "id": "af7919dd",
   "metadata": {},
   "source": [
    "# Transformar um Notebook Jupyter em um Executável\n",
    "Este notebook ensina como transformar um arquivo Jupyter em um executável, passo a passo."
   ]
  },
  {
   "cell_type": "markdown",
   "id": "e9e26f3b",
   "metadata": {},
   "source": [
    "## 1. Instalar Dependências Necessárias\n",
    "Para converter notebooks em scripts Python, é necessário instalar o pacote `nbconvert`."
   ]
  },
  {
   "cell_type": "code",
   "execution_count": 6,
   "id": "7d859e80",
   "metadata": {},
   "outputs": [
    {
     "name": "stdout",
     "output_type": "stream",
     "text": [
      "Requirement already satisfied: nbconvert in d:\\github\\doutoradocefet\\inteligenciacomputacional\\.venv\\lib\\site-packages (7.16.6)\n",
      "Requirement already satisfied: beautifulsoup4 in d:\\github\\doutoradocefet\\inteligenciacomputacional\\.venv\\lib\\site-packages (from nbconvert) (4.13.4)\n",
      "Requirement already satisfied: bleach!=5.0.0 in d:\\github\\doutoradocefet\\inteligenciacomputacional\\.venv\\lib\\site-packages (from bleach[css]!=5.0.0->nbconvert) (6.2.0)\n",
      "Requirement already satisfied: defusedxml in d:\\github\\doutoradocefet\\inteligenciacomputacional\\.venv\\lib\\site-packages (from nbconvert) (0.7.1)\n",
      "Requirement already satisfied: jinja2>=3.0 in d:\\github\\doutoradocefet\\inteligenciacomputacional\\.venv\\lib\\site-packages (from nbconvert) (3.1.6)\n",
      "Requirement already satisfied: jupyter-core>=4.7 in d:\\github\\doutoradocefet\\inteligenciacomputacional\\.venv\\lib\\site-packages (from nbconvert) (5.7.2)\n",
      "Requirement already satisfied: jupyterlab-pygments in d:\\github\\doutoradocefet\\inteligenciacomputacional\\.venv\\lib\\site-packages (from nbconvert) (0.3.0)\n",
      "Requirement already satisfied: markupsafe>=2.0 in d:\\github\\doutoradocefet\\inteligenciacomputacional\\.venv\\lib\\site-packages (from nbconvert) (3.0.2)\n",
      "Requirement already satisfied: mistune<4,>=2.0.3 in d:\\github\\doutoradocefet\\inteligenciacomputacional\\.venv\\lib\\site-packages (from nbconvert) (3.1.3)\n",
      "Requirement already satisfied: nbclient>=0.5.0 in d:\\github\\doutoradocefet\\inteligenciacomputacional\\.venv\\lib\\site-packages (from nbconvert) (0.10.2)\n",
      "Requirement already satisfied: nbformat>=5.7 in d:\\github\\doutoradocefet\\inteligenciacomputacional\\.venv\\lib\\site-packages (from nbconvert) (5.10.4)\n",
      "Requirement already satisfied: packaging in d:\\github\\doutoradocefet\\inteligenciacomputacional\\.venv\\lib\\site-packages (from nbconvert) (24.2)\n",
      "Requirement already satisfied: pandocfilters>=1.4.1 in d:\\github\\doutoradocefet\\inteligenciacomputacional\\.venv\\lib\\site-packages (from nbconvert) (1.5.1)\n",
      "Requirement already satisfied: pygments>=2.4.1 in d:\\github\\doutoradocefet\\inteligenciacomputacional\\.venv\\lib\\site-packages (from nbconvert) (2.19.1)\n",
      "Requirement already satisfied: traitlets>=5.1 in d:\\github\\doutoradocefet\\inteligenciacomputacional\\.venv\\lib\\site-packages (from nbconvert) (5.14.3)\n",
      "Requirement already satisfied: webencodings in d:\\github\\doutoradocefet\\inteligenciacomputacional\\.venv\\lib\\site-packages (from bleach!=5.0.0->bleach[css]!=5.0.0->nbconvert) (0.5.1)\n",
      "Requirement already satisfied: tinycss2<1.5,>=1.1.0 in d:\\github\\doutoradocefet\\inteligenciacomputacional\\.venv\\lib\\site-packages (from bleach[css]!=5.0.0->nbconvert) (1.4.0)\n",
      "Requirement already satisfied: platformdirs>=2.5 in d:\\github\\doutoradocefet\\inteligenciacomputacional\\.venv\\lib\\site-packages (from jupyter-core>=4.7->nbconvert) (4.3.7)\n",
      "Requirement already satisfied: pywin32>=300 in d:\\github\\doutoradocefet\\inteligenciacomputacional\\.venv\\lib\\site-packages (from jupyter-core>=4.7->nbconvert) (310)\n",
      "Requirement already satisfied: jupyter-client>=6.1.12 in d:\\github\\doutoradocefet\\inteligenciacomputacional\\.venv\\lib\\site-packages (from nbclient>=0.5.0->nbconvert) (8.6.3)\n",
      "Requirement already satisfied: python-dateutil>=2.8.2 in d:\\github\\doutoradocefet\\inteligenciacomputacional\\.venv\\lib\\site-packages (from jupyter-client>=6.1.12->nbclient>=0.5.0->nbconvert) (2.9.0.post0)\n",
      "Requirement already satisfied: pyzmq>=23.0 in d:\\github\\doutoradocefet\\inteligenciacomputacional\\.venv\\lib\\site-packages (from jupyter-client>=6.1.12->nbclient>=0.5.0->nbconvert) (26.4.0)\n",
      "Requirement already satisfied: tornado>=6.2 in d:\\github\\doutoradocefet\\inteligenciacomputacional\\.venv\\lib\\site-packages (from jupyter-client>=6.1.12->nbclient>=0.5.0->nbconvert) (6.4.2)\n",
      "Requirement already satisfied: fastjsonschema>=2.15 in d:\\github\\doutoradocefet\\inteligenciacomputacional\\.venv\\lib\\site-packages (from nbformat>=5.7->nbconvert) (2.21.1)\n",
      "Requirement already satisfied: jsonschema>=2.6 in d:\\github\\doutoradocefet\\inteligenciacomputacional\\.venv\\lib\\site-packages (from nbformat>=5.7->nbconvert) (4.23.0)\n",
      "Requirement already satisfied: attrs>=22.2.0 in d:\\github\\doutoradocefet\\inteligenciacomputacional\\.venv\\lib\\site-packages (from jsonschema>=2.6->nbformat>=5.7->nbconvert) (25.3.0)\n",
      "Requirement already satisfied: jsonschema-specifications>=2023.03.6 in d:\\github\\doutoradocefet\\inteligenciacomputacional\\.venv\\lib\\site-packages (from jsonschema>=2.6->nbformat>=5.7->nbconvert) (2025.4.1)\n",
      "Requirement already satisfied: referencing>=0.28.4 in d:\\github\\doutoradocefet\\inteligenciacomputacional\\.venv\\lib\\site-packages (from jsonschema>=2.6->nbformat>=5.7->nbconvert) (0.36.2)\n",
      "Requirement already satisfied: rpds-py>=0.7.1 in d:\\github\\doutoradocefet\\inteligenciacomputacional\\.venv\\lib\\site-packages (from jsonschema>=2.6->nbformat>=5.7->nbconvert) (0.24.0)\n",
      "Requirement already satisfied: six>=1.5 in d:\\github\\doutoradocefet\\inteligenciacomputacional\\.venv\\lib\\site-packages (from python-dateutil>=2.8.2->jupyter-client>=6.1.12->nbclient>=0.5.0->nbconvert) (1.17.0)\n",
      "Requirement already satisfied: soupsieve>1.2 in d:\\github\\doutoradocefet\\inteligenciacomputacional\\.venv\\lib\\site-packages (from beautifulsoup4->nbconvert) (2.7)\n",
      "Requirement already satisfied: typing-extensions>=4.0.0 in d:\\github\\doutoradocefet\\inteligenciacomputacional\\.venv\\lib\\site-packages (from beautifulsoup4->nbconvert) (4.13.2)\n",
      "Note: you may need to restart the kernel to use updated packages.\n"
     ]
    }
   ],
   "source": [
    "# Instalar o pacote nbconvert\n",
    "%pip install nbconvert"
   ]
  },
  {
   "cell_type": "markdown",
   "id": "35ee7efe",
   "metadata": {},
   "source": [
    "## 2. Converter Notebook para Script Python\n",
    "Use o comando abaixo para converter o notebook em um script Python:"
   ]
  },
  {
   "cell_type": "code",
   "execution_count": 7,
   "id": "7ec9dcf4",
   "metadata": {},
   "outputs": [
    {
     "name": "stderr",
     "output_type": "stream",
     "text": [
      "[NbConvertApp] Converting notebook pertinencia.ipynb to script\n",
      "[NbConvertApp] Writing 39721 bytes to pertinencia.py\n"
     ]
    }
   ],
   "source": [
    "# Converter o notebook atual para um script Python\n",
    "!jupyter nbconvert --to script pertinencia.ipynb"
   ]
  },
  {
   "cell_type": "markdown",
   "id": "6a467a85",
   "metadata": {},
   "source": [
    "## 3. Adicionar um Ponto de Entrada no Script\n",
    "Edite o script gerado para incluir um bloco `if __name__ == '__main__':` que chama a função principal do código. Isso garante que o script seja executado corretamente como um executável."
   ]
  },
  {
   "cell_type": "code",
   "execution_count": 8,
   "id": "7220351e",
   "metadata": {},
   "outputs": [
    {
     "name": "stdout",
     "output_type": "stream",
     "text": [
      "Este é o ponto de entrada do script.\n"
     ]
    }
   ],
   "source": [
    "# Exemplo de como adicionar um ponto de entrada no script gerado\n",
    "def main():\n",
    "    print(\"Este é o ponto de entrada do script.\")\n",
    "\n",
    "if __name__ == '__main__':\n",
    "    main()"
   ]
  },
  {
   "cell_type": "markdown",
   "id": "676cc9d4",
   "metadata": {},
   "source": [
    "## 4. Tornar o Script Executável\n",
    "Em sistemas Unix, use o comando abaixo para tornar o script gerado executável:"
   ]
  },
  {
   "cell_type": "code",
   "execution_count": 9,
   "id": "e2df452b",
   "metadata": {},
   "outputs": [
    {
     "name": "stderr",
     "output_type": "stream",
     "text": [
      "'chmod' n�o � reconhecido como um comando interno\n",
      "ou externo, um programa oper�vel ou um arquivo em lotes.\n"
     ]
    }
   ],
   "source": [
    "# Tornar o script executável (Unix)\n",
    "!chmod +x pertinencia.py"
   ]
  },
  {
   "cell_type": "markdown",
   "id": "b5b7f85b",
   "metadata": {},
   "source": [
    "## 5. Testar o Executável\n",
    "Execute o script no terminal para verificar se ele funciona corretamente:"
   ]
  },
  {
   "cell_type": "code",
   "execution_count": 12,
   "id": "6ebfcc81",
   "metadata": {},
   "outputs": [
    {
     "name": "stderr",
     "output_type": "stream",
     "text": [
      "'.' n�o � reconhecido como um comando interno\n",
      "ou externo, um programa oper�vel ou um arquivo em lotes.\n"
     ]
    }
   ],
   "source": [
    "# Testar o script executável\n",
    "!./pertinencia.py"
   ]
  },
  {
   "cell_type": "code",
   "execution_count": null,
   "id": "99d607f3",
   "metadata": {},
   "outputs": [],
   "source": []
  }
 ],
 "metadata": {
  "kernelspec": {
   "display_name": ".venv",
   "language": "python",
   "name": "python3"
  },
  "language_info": {
   "codemirror_mode": {
    "name": "ipython",
    "version": 3
   },
   "file_extension": ".py",
   "mimetype": "text/x-python",
   "name": "python",
   "nbconvert_exporter": "python",
   "pygments_lexer": "ipython3",
   "version": "3.13.3"
  }
 },
 "nbformat": 4,
 "nbformat_minor": 5
}
