{
 "cells": [
  {
   "cell_type": "markdown",
   "id": "6c0757ec",
   "metadata": {},
   "source": [
    "# Universo Fuzzy: Análise e Fuzzificação\n",
    "Um notebook para definir o universo de discurso, particionar o domínio em funções de pertinência, realizar fuzzificação de amostras e analisar os resultados."
   ]
  },
  {
   "cell_type": "markdown",
   "id": "837a3299",
   "metadata": {},
   "source": [
    "## 1. Definir Universo de Discurso\n",
    "Defina o intervalo do universo de discurso e as amostras para fuzzificação."
   ]
  },
  {
   "cell_type": "code",
   "execution_count": null,
   "id": "199e7bfc",
   "metadata": {},
   "outputs": [],
   "source": [
    "# Definição do universo de discurso\n",
    "dominio = (0, 100)  # Intervalo do universo de discurso\n",
    "samples = [25, 75]  # Amostras para fuzzificação"
   ]
  },
  {
   "cell_type": "markdown",
   "id": "1f61d7f0",
   "metadata": {},
   "source": [
    "## 2. Particionar o Domínio em Funções de Pertinência\n",
    "Implemente funções para gerar parâmetros e calcular graus de pertinência para diferentes tipos de funções fuzzy."
   ]
  },
  {
   "cell_type": "code",
   "execution_count": null,
   "id": "e7479872",
   "metadata": {},
   "outputs": [],
   "source": [
    "import numpy as np\n",
    "\n",
    "# Função para gerar parâmetros para diferentes tipos de funções fuzzy\n",
    "def generate_params(X, types, n):\n",
    "    centers = np.linspace(X[0], X[1], n)\n",
    "    step = (X[1] - X[0]) / (n - 1) if n > 1 else (X[1] - X[0])\n",
    "    params = []\n",
    "    for i, t in enumerate(types):\n",
    "        if t == 'gaussian':\n",
    "            sigma = step / 2\n",
    "            params.append([centers[i], sigma])\n",
    "        elif t == 'triangular':\n",
    "            a = max(X[0], centers[i] - step)\n",
    "            b = centers[i]\n",
    "            c = min(X[1], centers[i] + step)\n",
    "            params.append([a, b, c])\n",
    "        elif t == 'trapezoidal':\n",
    "            a = max(X[0], centers[i] - step)\n",
    "            b = max(X[0], centers[i] - step / 2)\n",
    "            c = min(X[1], centers[i] + step / 2)\n",
    "            d = min(X[1], centers[i] + step)\n",
    "            params.append([a, b, c, d])\n",
    "        else:\n",
    "            raise ValueError(f\"Tipo de função '{t}' não suportado!\")\n",
    "    return params\n",
    "\n",
    "# Função para calcular os graus de pertinência\n",
    "def calculate_membership(dominio, types, params):\n",
    "    x = np.linspace(dominio[0], dominio[1], 100)\n",
    "    results = []\n",
    "    for func_type, func_params in zip(types, params):\n",
    "        if func_type == 'gaussian':\n",
    "            results.append([np.exp(-0.5 * ((val - func_params[0]) / func_params[1]) ** 2) for val in x])\n",
    "        elif func_type == 'triangular':\n",
    "            results.append([max(0, min((val - func_params[0]) / (func_params[1] - func_params[0]), \n",
    "                                       (func_params[2] - val) / (func_params[2] - func_params[1]))) for val in x])\n",
    "        elif func_type == 'trapezoidal':\n",
    "            results.append([max(0, min((val - func_params[0]) / (func_params[1] - func_params[0]), \n",
    "                                       1, \n",
    "                                       (func_params[3] - val) / (func_params[3] - func_params[2]))) for val in x])\n",
    "        else:\n",
    "            raise ValueError(f\"Tipo de função desconhecido: {func_type}\")\n",
    "    return x, results"
   ]
  },
  {
   "cell_type": "markdown",
   "id": "7620d1c4",
   "metadata": {},
   "source": [
    "## 3. Fuzzificação de Duas Amostras\n",
    "Calcule os graus de pertinência para duas amostras específicas usando as funções fuzzy definidas."
   ]
  }
 ],
 "metadata": {
  "language_info": {
   "name": "python"
  }
 },
 "nbformat": 4,
 "nbformat_minor": 5
}
