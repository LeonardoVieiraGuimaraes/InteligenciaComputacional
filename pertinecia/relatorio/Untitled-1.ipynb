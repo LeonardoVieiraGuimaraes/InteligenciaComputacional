{
 "cells": [
  {
   "cell_type": "markdown",
   "id": "a388b315",
   "metadata": {},
   "source": [
    "# Notebook para Definir um Universo de Discurso, Particionar em Funções de Pertinência e Realizar Fuzzificação de Amostras\n",
    "Este notebook tem como objetivo explorar o universo de discurso, particionar o domínio em funções de pertinência e realizar fuzzificação de amostras. Ele também inclui uma análise comparativa textual dos resultados obtidos."
   ]
  },
  {
   "cell_type": "markdown",
   "id": "9532b757",
   "metadata": {},
   "source": [
    "## 1. Definir Universo de Discurso\n",
    "Defina o intervalo do universo de discurso e as amostras para fuzzificação. Exemplo:"
   ]
  },
  {
   "cell_type": "code",
   "execution_count": null,
   "id": "ea412ae7",
   "metadata": {},
   "outputs": [],
   "source": [
    "# Definição do universo de discurso\n",
    "dominio = (0, 100)  # Intervalo do universo de discurso\n",
    "samples = [25, 75]  # Amostras para fuzzificação"
   ]
  },
  {
   "cell_type": "markdown",
   "id": "b8a88b7f",
   "metadata": {},
   "source": [
    "## 2. Particionar o Domínio em Funções de Pertinência\n",
    "Implemente a geração de parâmetros para pelo menos quatro funções de pertinência uniformemente espaçadas para cada tipo implementado na Atividade 1.1."
   ]
  },
  {
   "cell_type": "code",
   "execution_count": null,
   "id": "aef91e38",
   "metadata": {},
   "outputs": [],
   "source": [
    "import numpy as np\n",
    "\n",
    "# Função para gerar parâmetros para diferentes tipos de funções de pertinência\n",
    "def generate_params(X, types, n):\n",
    "    centers = np.linspace(X[0], X[1], n)  # Centros uniformemente distribuídos\n",
    "    step = (X[1] - X[0]) / (n - 1) if n > 1 else (X[1] - X[0])  # Espaçamento entre os centros\n",
    "    params = []\n",
    "\n",
    "    for i, t in enumerate(types):\n",
    "        if t == 'gaussian':\n",
    "            sigma = step / 2  # Sigma proporcional ao espaçamento\n",
    "            params.append([centers[i], sigma])\n",
    "        elif t == 'triangular':\n",
    "            a = max(X[0], centers[i] - step)  # Início da base\n",
    "            b = centers[i]                   # Pico\n",
    "            c = min(X[1], centers[i] + step)  # Fim da base\n",
    "            params.append([a, b, c])\n",
    "        elif t == 'trapezoidal':\n",
    "            a = max(X[0], centers[i] - step)  # Início da base\n",
    "            b = max(X[0], centers[i] - step / 2)  # Início do topo\n",
    "            c = min(X[1], centers[i] + step / 2)  # Fim do topo\n",
    "            d = min(X[1], centers[i] + step)  # Fim da base\n",
    "            params.append([a, b, c, d])\n",
    "        elif t == 'sigmoidal':\n",
    "            a = 1  # Inclinação padrão\n",
    "            c = centers[i]  # Centro\n",
    "            params.append([a, c])\n",
    "        else:\n",
    "            raise ValueError(f\"Tipo de função '{t}' não suportado!\")\n",
    "    \n",
    "    return params\n",
    "\n",
    "# Exemplo de tipos de funções e geração de parâmetros\n",
    "types = ['gaussian', 'triangular', 'trapezoidal', 'sigmoidal']\n",
    "n = len(types)\n",
    "params = generate_params(dominio, types, n)\n",
    "print(\"Parâmetros gerados:\", params)"
   ]
  },
  {
   "cell_type": "markdown",
   "id": "eab1e89f",
   "metadata": {},
   "source": [
    "## 3. Fuzzificação de Duas Amostras\n",
    "Calcule o grau de ativação de cada função de pertinência para as amostras fornecidas. Use as funções implementadas na Atividade 1.1."
   ]
  },
  {
   "cell_type": "code",
   "execution_count": null,
   "id": "67fef1c9",
   "metadata": {},
   "outputs": [],
   "source": [
    "# Funções de pertinência implementadas\n",
    "def gaussian(x, c, sigma):\n",
    "    return np.exp(-0.5 * ((x - c) / sigma) ** 2)\n",
    "\n",
    "def triangular(x, a, b, c):\n",
    "    if a <= x < b:\n",
    "        return (x - a) / (b - a)\n",
    "    elif b <= x < c:\n",
    "        return (c - x) / (c - b)\n",
    "    else:\n",
    "        return 0\n",
    "\n",
    "def trapezoidal(x, a, b, c, d):\n",
    "    if a <= x < b:\n",
    "        return (x - a) / (b - a)\n",
    "    elif b <= x <= c:\n",
    "        return 1\n",
    "    elif c < x <= d:\n",
    "        return (d - x) / (d - c)\n",
    "    else:\n",
    "        return 0\n",
    "\n",
    "def sigmoidal(x, a, c):\n",
    "    return 1 / (1 + np.exp(-a * (x - c)))\n",
    "\n",
    "# Cálculo dos graus de ativação\n",
    "activations = []\n",
    "for sample in samples:\n",
    "    sample_activations = []\n",
    "    for func_type, func_params in zip(types, params):\n",
    "        if func_type == 'gaussian':\n",
    "            activation = gaussian(sample, *func_params)\n",
    "        elif func_type == 'triangular':\n",
    "            activation = triangular(sample, *func_params)\n",
    "        elif func_type == 'trapezoidal':\n",
    "            activation = trapezoidal(sample, *func_params)\n",
    "        elif func_type == 'sigmoidal':\n",
    "            activation = sigmoidal(sample, *func_params)\n",
    "        else:\n",
    "            raise ValueError(f\"Tipo de função desconhecido: {func_type}\")\n",
    "        sample_activations.append(activation)\n",
    "    activations.append(sample_activations)\n",
    "\n",
    "print(\"Ativações calculadas:\", activations)"
   ]
  },
  {
   "cell_type": "markdown",
   "id": "527b428a",
   "metadata": {},
   "source": [
    "## 4. Plotar Funções de Pertinência e Ativações\n",
    "Crie gráficos para cada tipo de função de pertinência mostrando o universo de discurso, as funções e as ativações das amostras."
   ]
  },
  {
   "cell_type": "code",
   "execution_count": null,
   "id": "4fbaab9c",
   "metadata": {},
   "outputs": [],
   "source": [
    "import matplotlib.pyplot as plt\n",
    "\n",
    "# Função para plotar funções de pertinência e ativações\n",
    "def plot_membership_with_samples(x, results, labels, samples, activations):\n",
    "    plt.figure(figsize=(10, 6))\n",
    "    for i, result in enumerate(results):\n",
    "        plt.plot(x, result, label=f\"{labels[i]}\")\n",
    "    for sample, sample_activations in zip(samples, activations):\n",
    "        for i, activation in enumerate(sample_activations):\n",
    "            plt.scatter(sample, activation, label=f\"Sample {sample} - {labels[i]}: {activation:.2f}\")\n",
    "    plt.title(\"Funções de Pertinência e Ativações\")\n",
    "    plt.xlabel(\"x\")\n",
    "    plt.ylabel(\"Grau de Pertinência\")\n",
    "    plt.legend()\n",
    "    plt.grid()\n",
    "    plt.show()\n",
    "\n",
    "# Geração de valores para o domínio\n",
    "x = np.linspace(dominio[0], dominio[1], 100)\n",
    "results = []\n",
    "for func_type, func_params in zip(types, params):\n",
    "    if func_type == 'gaussian':\n",
    "        results.append([gaussian(val, *func_params) for val in x])\n",
    "    elif func_type == 'triangular':\n",
    "        results.append([triangular(val, *func_params) for val in x])\n",
    "    elif func_type == 'trapezoidal':\n",
    "        results.append([trapezoidal(val, *func_params) for val in x])\n",
    "    elif func_type == 'sigmoidal':\n",
    "        results.append([sigmoidal(val, *func_params) for val in x])\n",
    "\n",
    "# Plotagem\n",
    "plot_membership_with_samples(x, results, types, samples, activations)"
   ]
  },
  {
   "cell_type": "markdown",
   "id": "153f9e44",
   "metadata": {},
   "source": [
    "## 5. Análise Textual Comparativa\n",
    "Escreva uma análise textual comparando os resultados das ativações entre diferentes tipos de funções de pertinência, destacando suavidade e sensibilidade."
   ]
  },
  {
   "cell_type": "markdown",
   "id": "aa07bab1",
   "metadata": {},
   "source": [
    "As funções de pertinência apresentaram comportamentos distintos em relação às amostras fornecidas:\n",
    "- **Gaussian**: Apresenta suavidade e transições graduais, sendo menos sensível a mudanças bruscas.\n",
    "- **Triangular**: Possui transições lineares, com maior sensibilidade em regiões próximas aos vértices.\n",
    "- **Trapezoidal**: Combina regiões de transição linear com uma região plana, sendo útil para representar intervalos constantes.\n",
    "- **Sigmoidal**: Apresenta uma curva suave e assimétrica, útil para modelar transições rápidas em uma direção específica.\n",
    "\n",
    "Essas diferenças destacam a importância de escolher a função de pertinência adequada para cada aplicação."
   ]
  }
 ],
 "metadata": {
  "language_info": {
   "name": "python"
  }
 },
 "nbformat": 4,
 "nbformat_minor": 5
}
