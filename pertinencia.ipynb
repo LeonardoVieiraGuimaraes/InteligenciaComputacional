{
 "cells": [
  {
   "cell_type": "markdown",
   "id": "587fcf72",
   "metadata": {},
   "source": [
    "# Funções de Pertinência para Lógica Fuzzy\n",
    "Este notebook implementa 7 funções de pertinência comuns utilizadas em lógica fuzzy."
   ]
  },
  {
   "cell_type": "code",
   "execution_count": 24,
   "id": "9cfebd50",
   "metadata": {},
   "outputs": [],
   "source": [
    "import numpy as np\n",
    "import matplotlib.pyplot as plt"
   ]
  },
  {
   "cell_type": "markdown",
   "id": "23333afa",
   "metadata": {},
   "source": [
    "## 1. Função Triangular"
   ]
  },
  {
   "cell_type": "code",
   "execution_count": 25,
   "id": "a09274b0",
   "metadata": {},
   "outputs": [],
   "source": [
    "def triangular(x, a, b, c):\n",
    "    if a <= x < b:\n",
    "        return (x - a) / (b - a)\n",
    "    elif b <= x < c:\n",
    "        return (c - x) / (c - b)\n",
    "    else:\n",
    "        return 0"
   ]
  },
  {
   "cell_type": "markdown",
   "id": "882d6e17",
   "metadata": {},
   "source": [
    "## 2. Função Trapezoidal"
   ]
  },
  {
   "cell_type": "code",
   "execution_count": 26,
   "id": "179a2632",
   "metadata": {},
   "outputs": [],
   "source": [
    "def trapezoidal(x, a, b, c, d):\n",
    "    if a <= x < b:\n",
    "        return (x - a) / (b - a)\n",
    "    elif b <= x <= c:\n",
    "        return 1\n",
    "    elif c < x <= d:\n",
    "        return (d - x) / (d - c)\n",
    "    else:\n",
    "        return 0"
   ]
  },
  {
   "cell_type": "markdown",
   "id": "e089564f",
   "metadata": {},
   "source": [
    "## 3. Função Gaussiana"
   ]
  },
  {
   "cell_type": "code",
   "execution_count": 27,
   "id": "cc5066b1",
   "metadata": {},
   "outputs": [],
   "source": [
    "def gaussian(x, c, sigma):\n",
    "    return np.exp(-0.5 * ((x - c) / sigma) ** 2)"
   ]
  },
  {
   "cell_type": "markdown",
   "id": "921b7189",
   "metadata": {},
   "source": [
    "## 4. Função Sigmoidal"
   ]
  },
  {
   "cell_type": "code",
   "execution_count": 28,
   "id": "e81946d1",
   "metadata": {},
   "outputs": [],
   "source": [
    "def sigmoidal(x, a, c):\n",
    "    return 1 / (1 + np.exp(-a * (x - c)))"
   ]
  },
  {
   "cell_type": "markdown",
   "id": "7e7ce933",
   "metadata": {},
   "source": [
    "## 5. Função Z"
   ]
  },
  {
   "cell_type": "code",
   "execution_count": 29,
   "id": "febcdfc1",
   "metadata": {},
   "outputs": [],
   "source": [
    "def z_function(x, a, b):\n",
    "    if x <= a:\n",
    "        return 1\n",
    "    elif a < x < b:\n",
    "        return 1 - 2 * ((x - a) / (b - a)) ** 2\n",
    "    elif x >= b:\n",
    "        return 0"
   ]
  },
  {
   "cell_type": "markdown",
   "id": "3513dd9b",
   "metadata": {},
   "source": [
    "## 6. Função S"
   ]
  },
  {
   "cell_type": "code",
   "execution_count": 30,
   "id": "794aaa1a",
   "metadata": {},
   "outputs": [],
   "source": [
    "def s_function(x, a, b):\n",
    "    if x <= a:\n",
    "        return 0\n",
    "    elif a < x < b:\n",
    "        return 2 * ((x - a) / (b - a)) ** 2\n",
    "    elif x >= b:\n",
    "        return 1"
   ]
  },
  {
   "cell_type": "markdown",
   "id": "9aff107e",
   "metadata": {},
   "source": [
    "## 7. Função Pi"
   ]
  },
  {
   "cell_type": "code",
   "execution_count": 31,
   "id": "f313ba63",
   "metadata": {},
   "outputs": [],
   "source": [
    "def pi_function(x, a, b, c):\n",
    "    if x < b:\n",
    "        return s_function(x, a, b)\n",
    "    else:\n",
    "        return z_function(x, b, c)"
   ]
  },
  {
   "cell_type": "code",
   "execution_count": null,
   "id": "baf66915",
   "metadata": {},
   "outputs": [],
   "source": [
    "def calculate_membership(x, num_pertinences, types, params):\n",
    "    \n",
    "    results = []\n",
    "    for i in range(num_pertinences):\n",
    "        func_type = types[i]\n",
    "        func_params = params[i]\n",
    "        \n",
    "        if func_type == 'triangular':\n",
    "            results.append([triangular(val, *func_params) for val in x])\n",
    "        elif func_type == 'trapezoidal':\n",
    "            results.append([trapezoidal(val, *func_params) for val in x])\n",
    "        elif func_type == 'gaussian':\n",
    "            results.append([gaussian(val, *func_params) for val in x])\n",
    "        elif func_type == 'sigmoidal':\n",
    "            results.append([sigmoidal(val, *func_params) for val in x])\n",
    "        elif func_type == 'z':\n",
    "            results.append([z_function(val, *func_params) for val in x])\n",
    "        elif func_type == 's':\n",
    "            results.append([s_function(val, *func_params) for val in x])\n",
    "        elif func_type == 'pi':\n",
    "            results.append([pi_function(val, *func_params) for val in x])\n",
    "        else:\n",
    "            raise ValueError(f\"Tipo de função desconhecido: {func_type}\")\n",
    "    \n",
    "    return results"
   ]
  },
  {
   "cell_type": "code",
   "execution_count": null,
   "id": "000966af",
   "metadata": {},
   "outputs": [],
   "source": [
    "def calculate_membership(intervalos, funcao_pertinecia, params):\n",
    "    \"\"\"\n",
    "    Calcula os graus de pertinência para os valores em intervalos com base nos tipos e parâmetros fornecidos.\n",
    "\n",
    "    :param intervalos: Lista de tuplas (min, max) definindo os intervalos de cada função.\n",
    "    :param types: Lista de strings indicando os tipos de funções de pertinência.\n",
    "    :param params: Lista de listas com os parâmetros para cada função de pertinência.\n",
    "    :return: Lista de listas com os graus de pertinência para cada tipo.\n",
    "    \"\"\"\n",
    "    results = []\n",
    "    for X, func_type, func_params in zip(intervalos, funcao_pertinecia, params):\n",
    "        # Gera os valores de x dentro do intervalo especificado\n",
    "        x = np.linspace(X[0], X[1], 100)\n",
    "        \n",
    "        # Calcula os graus de pertinência com base no tipo de função\n",
    "        if func_type == 'triangular':\n",
    "            results.append([triangular(val, *func_params) for val in x])\n",
    "        elif func_type == 'trapezoidal':\n",
    "            results.append([trapezoidal(val, *func_params) for val in x])\n",
    "        elif func_type == 'gaussian':\n",
    "            results.append([gaussian(val, *func_params) for val in x])\n",
    "        elif func_type == 'sigmoidal':\n",
    "            results.append([sigmoidal(val, *func_params) for val in x])\n",
    "        elif func_type == 'z':\n",
    "            results.append([z_function(val, *func_params) for val in x])\n",
    "        elif func_type == 's':\n",
    "            results.append([s_function(val, *func_params) for val in x])\n",
    "        elif func_type == 'pi':\n",
    "            results.append([pi_function(val, *func_params) for val in x])\n",
    "        else:\n",
    "            raise ValueError(f\"Tipo de função desconhecido: {func_type}\")\n",
    "\n",
    "    return results"
   ]
  },
  {
   "cell_type": "code",
   "execution_count": 50,
   "id": "957880d0",
   "metadata": {},
   "outputs": [],
   "source": [
    "# Plotando os resultados\n",
    "import matplotlib.pyplot as plt\n",
    "import numpy as np\n",
    "\n",
    "def plot_membership(intervalos, results, classificacao):\n",
    "    \"\"\"\n",
    "    Plota as funções de pertinência com base nos intervalos, resultados e classificações fornecidos.\n",
    "\n",
    "    :param intervalos: Lista de tuplas (min, max) definindo os intervalos de cada função.\n",
    "    :param results: Lista de listas com os graus de pertinência calculados.\n",
    "    :param classificacao: Lista de nomes descritivos para cada função de pertinência.\n",
    "    \"\"\"\n",
    "    plt.figure(figsize=(10, 6))\n",
    "\n",
    "    for i, (X, result) in enumerate(zip(intervalos, results)):\n",
    "        x = np.linspace(X[0], X[1], 100)\n",
    "        plt.plot(x, result, label=f\"Função {classificacao[i]}\")\n",
    "\n",
    "    plt.legend()\n",
    "    plt.title(\"Funções de Pertinência\")\n",
    "    plt.xlabel(\"x\")\n",
    "    plt.ylabel(\"Grau de Pertinência\")\n",
    "    plt.grid()\n",
    "    plt.show()"
   ]
  },
  {
   "cell_type": "code",
   "execution_count": null,
   "id": "32982503",
   "metadata": {},
   "outputs": [
    {
     "name": "stderr",
     "output_type": "stream",
     "text": [
      "<>:14: SyntaxWarning: list indices must be integers or slices, not tuple; perhaps you missed a comma?\n",
      "<>:14: SyntaxWarning: list indices must be integers or slices, not tuple; perhaps you missed a comma?\n",
      "C:\\Users\\leona\\AppData\\Local\\Temp\\ipykernel_40636\\3053561820.py:14: SyntaxWarning: list indices must be integers or slices, not tuple; perhaps you missed a comma?\n",
      "  [1, 6]\n"
     ]
    },
    {
     "ename": "TypeError",
     "evalue": "list indices must be integers or slices, not tuple",
     "output_type": "error",
     "traceback": [
      "\u001b[31m---------------------------------------------------------------------------\u001b[39m",
      "\u001b[31mTypeError\u001b[39m                                 Traceback (most recent call last)",
      "\u001b[36mCell\u001b[39m\u001b[36m \u001b[39m\u001b[32mIn[54]\u001b[39m\u001b[32m, line 14\u001b[39m\n\u001b[32m     10\u001b[39m classificacao = [\u001b[33m'\u001b[39m\u001b[33mbaixissima\u001b[39m\u001b[33m'\u001b[39m, \u001b[33m'\u001b[39m\u001b[33mbaixa\u001b[39m\u001b[33m'\u001b[39m, \u001b[33m'\u001b[39m\u001b[33mmedia\u001b[39m\u001b[33m'\u001b[39m, \u001b[33m'\u001b[39m\u001b[33malta\u001b[39m\u001b[33m'\u001b[39m, \u001b[33m'\u001b[39m\u001b[33maltissima\u001b[39m\u001b[33m'\u001b[39m]\n\u001b[32m     11\u001b[39m types = [\u001b[33m'\u001b[39m\u001b[33msigmoidal\u001b[39m\u001b[33m'\u001b[39m, \u001b[33m'\u001b[39m\u001b[33msigmoidal\u001b[39m\u001b[33m'\u001b[39m, \u001b[33m'\u001b[39m\u001b[33msigmoidal\u001b[39m\u001b[33m'\u001b[39m, \u001b[33m'\u001b[39m\u001b[33msigmoidal\u001b[39m\u001b[33m'\u001b[39m, \u001b[33m'\u001b[39m\u001b[33msigmoidal\u001b[39m\u001b[33m'\u001b[39m]\n\u001b[32m     13\u001b[39m params = [\n\u001b[32m---> \u001b[39m\u001b[32m14\u001b[39m     \u001b[43m[\u001b[49m\u001b[32;43m1\u001b[39;49m\u001b[43m,\u001b[49m\u001b[43m \u001b[49m\u001b[32;43m6\u001b[39;49m\u001b[43m]\u001b[49m\u001b[43m          \u001b[49m\n\u001b[32m     15\u001b[39m \u001b[43m    \u001b[49m\u001b[43m[\u001b[49m\u001b[32;43m1\u001b[39;49m\u001b[43m,\u001b[49m\u001b[43m \u001b[49m\u001b[32;43m6\u001b[39;49m\u001b[43m]\u001b[49m     \n\u001b[32m     16\u001b[39m     [\u001b[32m1\u001b[39m, \u001b[32m6\u001b[39m]         \n\u001b[32m     17\u001b[39m     [\u001b[32m1\u001b[39m, \u001b[32m6\u001b[39m]     \n\u001b[32m     18\u001b[39m     [\u001b[32m1\u001b[39m, \u001b[32m6\u001b[39m]          \u001b[38;5;66;03m# Parâmetros para a função sigmoidal\u001b[39;00m\n\u001b[32m     19\u001b[39m ]\n\u001b[32m     21\u001b[39m \u001b[38;5;66;03m# Chamada da função\u001b[39;00m\n\u001b[32m     22\u001b[39m results = calculate_membership(intervalos, types, params)\n",
      "\u001b[31mTypeError\u001b[39m: list indices must be integers or slices, not tuple"
     ]
    }
   ],
   "source": [
    "# Definição dos intervalos, tipos e parâmetros\n",
    "intervalos = [\n",
    "    (0, 7.5),  \n",
    "    (2.5, 17.5),  \n",
    "    (10, 15), \n",
    "    (15, 20),\n",
    "    (15, 20)      \n",
    "]\n",
    "\n",
    "classificacao = ['baixissima', 'baixa', 'media', 'alta', 'altissima']\n",
    "types = ['sigmoidal', 'sigmoidal', 'sigmoidal', 'sigmoidal', 'sigmoidal']\n",
    "\n",
    "params = [\n",
    "    [1, 6],          \n",
    "    [1, 6] ,    \n",
    "    [1, 6]  ,       \n",
    "    [1, 6]   ,  \n",
    "    [1, 6]    ,      # Parâmetros para a função sigmoidal\n",
    "]\n",
    "\n",
    "# Chamada da função\n",
    "results = calculate_membership(intervalos, types, params)\n",
    "print(results)\n",
    "\n",
    "plot_membership(intervalos, results, classificacao)"
   ]
  },
  {
   "cell_type": "code",
   "execution_count": null,
   "id": "69d366e3",
   "metadata": {},
   "outputs": [],
   "source": []
  }
 ],
 "metadata": {
  "kernelspec": {
   "display_name": ".venv",
   "language": "python",
   "name": "python3"
  },
  "language_info": {
   "codemirror_mode": {
    "name": "ipython",
    "version": 3
   },
   "file_extension": ".py",
   "mimetype": "text/x-python",
   "name": "python",
   "nbconvert_exporter": "python",
   "pygments_lexer": "ipython3",
   "version": "3.13.3"
  }
 },
 "nbformat": 4,
 "nbformat_minor": 5
}
